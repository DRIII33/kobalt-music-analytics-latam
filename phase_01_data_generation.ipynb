{
  "nbformat": 4,
  "nbformat_minor": 0,
  "metadata": {
    "colab": {
      "provenance": []
    },
    "kernelspec": {
      "name": "python3",
      "display_name": "Python 3"
    },
    "language_info": {
      "name": "python"
    }
  },
  "cells": [
    {
      "cell_type": "code",
      "source": [
        "!pip install pandas\n",
        "!pip install numpy\n"
      ],
      "metadata": {
        "colab": {
          "base_uri": "https://localhost:8080/"
        },
        "id": "GDde86MuFTF-",
        "outputId": "f93664c3-a286-40c9-9bb0-c8d98992aa0f"
      },
      "execution_count": 2,
      "outputs": [
        {
          "output_type": "stream",
          "name": "stdout",
          "text": [
            "Requirement already satisfied: pandas in /usr/local/lib/python3.11/dist-packages (2.2.2)\n",
            "Requirement already satisfied: numpy>=1.23.2 in /usr/local/lib/python3.11/dist-packages (from pandas) (2.0.2)\n",
            "Requirement already satisfied: python-dateutil>=2.8.2 in /usr/local/lib/python3.11/dist-packages (from pandas) (2.9.0.post0)\n",
            "Requirement already satisfied: pytz>=2020.1 in /usr/local/lib/python3.11/dist-packages (from pandas) (2025.2)\n",
            "Requirement already satisfied: tzdata>=2022.7 in /usr/local/lib/python3.11/dist-packages (from pandas) (2025.2)\n",
            "Requirement already satisfied: six>=1.5 in /usr/local/lib/python3.11/dist-packages (from python-dateutil>=2.8.2->pandas) (1.17.0)\n",
            "Requirement already satisfied: numpy in /usr/local/lib/python3.11/dist-packages (2.0.2)\n"
          ]
        }
      ]
    },
    {
      "cell_type": "code",
      "source": [
        "!pip install datetime"
      ],
      "metadata": {
        "colab": {
          "base_uri": "https://localhost:8080/"
        },
        "id": "FDX6Yp9XFscN",
        "outputId": "d8542201-f199-4061-8b8a-59c0b133c9cd"
      },
      "execution_count": 4,
      "outputs": [
        {
          "output_type": "stream",
          "name": "stdout",
          "text": [
            "Requirement already satisfied: datetime in /usr/local/lib/python3.11/dist-packages (5.5)\n",
            "Requirement already satisfied: zope.interface in /usr/local/lib/python3.11/dist-packages (from datetime) (7.2)\n",
            "Requirement already satisfied: pytz in /usr/local/lib/python3.11/dist-packages (from datetime) (2025.2)\n",
            "Requirement already satisfied: setuptools in /usr/local/lib/python3.11/dist-packages (from zope.interface->datetime) (75.2.0)\n"
          ]
        }
      ]
    },
    {
      "cell_type": "code",
      "execution_count": 5,
      "metadata": {
        "colab": {
          "base_uri": "https://localhost:8080/"
        },
        "id": "4qNazNSyE3jC",
        "outputId": "7d14c71e-00e7-4ec4-9198-e3866a3cf51f"
      },
      "outputs": [
        {
          "output_type": "stream",
          "name": "stdout",
          "text": [
            "Generated streaming_data.csv\n",
            "Generated airplay_data.csv\n",
            "Generated social_media_data.csv\n",
            "Generated publishing_data.csv\n"
          ]
        }
      ],
      "source": [
        "import pandas as pd\n",
        "import numpy as np\n",
        "import random\n",
        "from datetime import datetime, timedelta\n",
        "\n",
        "# Define Latin American countries and top cities for simulation\n",
        "latam_countries = ['MX', 'BR', 'AR', 'CO', 'CL']\n",
        "latam_cities = {\n",
        "    'MX': ['Mexico City', 'Guadalajara'],\n",
        "    'BR': ['Sao Paulo', 'Rio de Janeiro'],\n",
        "    'AR': ['Buenos Aires', 'Cordoba'],\n",
        "    'CO': ['Bogota', 'Medellin'],\n",
        "    'CL': ['Santiago', 'Valparaiso']\n",
        "}\n",
        "\n",
        "# Define a list of simulated artists and songs\n",
        "artists = [f'Artist_{i}' for i in range(1, 21)]\n",
        "songs = {artist: [f'Song_{i}' for i in range(1, 5)] for artist in artists}\n",
        "\n",
        "# === 1. Synthetic Streaming Data ===\n",
        "def generate_streaming_data():\n",
        "    data = []\n",
        "    end_date = datetime.now()\n",
        "    start_date = end_date - timedelta(days=365)\n",
        "\n",
        "    for _ in range(500000): # Simulating a large dataset\n",
        "        artist = random.choice(artists)\n",
        "        song = random.choice(songs[artist])\n",
        "        country = random.choice(latam_countries)\n",
        "        stream_count = random.randint(100, 50000)\n",
        "        platform = random.choice(['Spotify', 'Apple Music', 'YouTube Music'])\n",
        "        date = start_date + timedelta(days=random.randint(0, 364))\n",
        "        isrc = f'US-XYZ-{random.randint(10000, 99999)}'\n",
        "\n",
        "        data.append([\n",
        "            f'track_{random.randint(100000, 999999)}',\n",
        "            artist,\n",
        "            song,\n",
        "            country,\n",
        "            stream_count,\n",
        "            platform,\n",
        "            date.strftime('%Y-%m-%d'),\n",
        "            f'album_{random.randint(1, 100)}',\n",
        "            isrc\n",
        "        ])\n",
        "\n",
        "    df = pd.DataFrame(data, columns=[\n",
        "        'track_id', 'artist_name', 'song_name', 'country', 'stream_count', 'platform', 'date', 'album_id', 'isrc'\n",
        "    ])\n",
        "    df.to_csv('streaming_data.csv', index=False)\n",
        "    print(\"Generated streaming_data.csv\")\n",
        "\n",
        "# === 2. Synthetic Airplay Data ===\n",
        "def generate_airplay_data():\n",
        "    data = []\n",
        "    end_date = datetime.now()\n",
        "    start_date = end_date - timedelta(days=365)\n",
        "\n",
        "    for _ in range(50000):\n",
        "        artist = random.choice(artists)\n",
        "        song = random.choice(songs[artist])\n",
        "        country = random.choice(latam_countries)\n",
        "        city = random.choice(latam_cities[country])\n",
        "        airplay_count = random.randint(1, 500)\n",
        "        date = start_date + timedelta(days=random.randint(0, 364))\n",
        "\n",
        "        data.append([\n",
        "            f'track_{random.randint(100000, 999999)}',\n",
        "            artist,\n",
        "            song,\n",
        "            f'station_{random.randint(1, 50)}',\n",
        "            city,\n",
        "            country,\n",
        "            airplay_count,\n",
        "            date.strftime('%Y-%m-%d')\n",
        "        ])\n",
        "\n",
        "    df = pd.DataFrame(data, columns=[\n",
        "        'track_id', 'artist_name', 'song_name', 'station_id', 'city', 'country', 'airplay_count', 'airplay_date'\n",
        "    ])\n",
        "    df.to_csv('airplay_data.csv', index=False)\n",
        "    print(\"Generated airplay_data.csv\")\n",
        "\n",
        "# === 3. Synthetic Social Media Data ===\n",
        "def generate_social_data():\n",
        "    data = []\n",
        "    end_date = datetime.now()\n",
        "    start_date = end_date - timedelta(days=365)\n",
        "\n",
        "    for _ in range(5000):\n",
        "        artist = random.choice(artists)\n",
        "        platform = random.choice(['YouTube', 'Instagram', 'TikTok'])\n",
        "        follower_count = random.randint(10000, 5000000)\n",
        "        engagement_rate = random.uniform(0.01, 0.15)\n",
        "        video_views = random.randint(10000, 10000000)\n",
        "        comment_count = random.randint(100, 50000)\n",
        "        date = start_date + timedelta(days=random.randint(0, 364))\n",
        "\n",
        "        data.append([\n",
        "            artist,\n",
        "            platform,\n",
        "            follower_count,\n",
        "            engagement_rate,\n",
        "            video_views,\n",
        "            comment_count,\n",
        "            date.strftime('%Y-%m-%d')\n",
        "        ])\n",
        "\n",
        "    df = pd.DataFrame(data, columns=[\n",
        "        'artist_name', 'platform', 'follower_count', 'engagement_rate', 'video_views', 'comment_count', 'date'\n",
        "    ])\n",
        "    df.to_csv('social_media_data.csv', index=False)\n",
        "    print(\"Generated social_media_data.csv\")\n",
        "\n",
        "# === 4. Synthetic Publishing/PRO Data ===\n",
        "def generate_publishing_data():\n",
        "    data = []\n",
        "    publishing_companies = ['Kobalt', 'Universal', 'Sony']\n",
        "    pro_affiliations = ['BMI', 'ASCAP', 'SACM']\n",
        "\n",
        "    for artist in artists:\n",
        "        for song in songs[artist]:\n",
        "            publisher = random.choice(publishing_companies)\n",
        "            pro = random.choice(pro_affiliations)\n",
        "            sw_credits = f'{artist}, Co-writer_{random.randint(1, 3)}'\n",
        "            percent_share = random.uniform(0.2, 0.8)\n",
        "\n",
        "            data.append([\n",
        "                artist,\n",
        "                song,\n",
        "                publisher,\n",
        "                pro,\n",
        "                sw_credits,\n",
        "                percent_share\n",
        "            ])\n",
        "\n",
        "    df = pd.DataFrame(data, columns=[\n",
        "        'artist_name', 'song_name', 'publisher_affiliation', 'pro_affiliation', 'songwriting_credits', 'percent_share'\n",
        "    ])\n",
        "    df.to_csv('publishing_data.csv', index=False)\n",
        "    print(\"Generated publishing_data.csv\")\n",
        "\n",
        "if __name__ == '__main__':\n",
        "    generate_streaming_data()\n",
        "    generate_airplay_data()\n",
        "    generate_social_data()\n",
        "    generate_publishing_data()"
      ]
    }
  ]
}